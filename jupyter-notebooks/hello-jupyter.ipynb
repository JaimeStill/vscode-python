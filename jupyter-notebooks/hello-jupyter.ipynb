{
 "metadata": {
  "language_info": {
   "codemirror_mode": {
    "name": "ipython",
    "version": 3
   },
   "file_extension": ".py",
   "mimetype": "text/x-python",
   "name": "python",
   "nbconvert_exporter": "python",
   "pygments_lexer": "ipython3",
   "version": "3.9.4-final"
  },
  "orig_nbformat": 2,
  "kernelspec": {
   "name": "python394jvsc74a57bd03b0c452eb2ed6005b232f6cb3940d3c9724be32a797e0583999f8de80cdedb3d",
   "display_name": "Python 3.9.4 64-bit ('.venv')"
  }
 },
 "nbformat": 4,
 "nbformat_minor": 2,
 "cells": [
  {
   "cell_type": "code",
   "execution_count": null,
   "metadata": {},
   "outputs": [],
   "source": [
    "msg = \"before\"\n",
    "print(msg)"
   ]
  },
  {
   "cell_type": "code",
   "execution_count": null,
   "metadata": {},
   "outputs": [],
   "source": [
    "msg = \"hello jupyter\"\n",
    "print(msg)"
   ]
  },
  {
   "cell_type": "code",
   "execution_count": null,
   "metadata": {},
   "outputs": [],
   "source": [
    "msg = \"after\"\n",
    "print(msg)"
   ]
  },
  {
   "source": [
    "> Use the run line by line option in the code block below to track the state of variables."
   ],
   "cell_type": "markdown",
   "metadata": {}
  },
  {
   "cell_type": "code",
   "execution_count": null,
   "metadata": {},
   "outputs": [],
   "source": [
    "x = 1\n",
    "y = 5\n",
    "x = x + y\n",
    "print(x)"
   ]
  },
  {
   "cell_type": "code",
   "execution_count": null,
   "metadata": {},
   "outputs": [],
   "source": [
    "import matplotlib.pyplot as plt\n",
    "import numpy as np\n",
    "\n",
    "x = np.linspace(0, 20, 100) # Create a list of evenly-spaced numbers over the range\n",
    "plt.plot(x, np.sin(x))      # Plot the sine of each x point\n",
    "plt.show()"
   ]
  },
  {
   "source": [
    "```py\n",
    "# enable data viewer in this workspace\n",
    "pip install pandas\n",
    "```\n",
    "\n",
    "1. Run the below cell\n",
    "2. Click the *View variables active in Jupyter* button in the toolbar\n",
    "3. Click the *Show variables in Data Viewer* button next to the `fibonacci` variable in the Variables table"
   ],
   "cell_type": "markdown",
   "metadata": {}
  },
  {
   "cell_type": "code",
   "execution_count": null,
   "metadata": {},
   "outputs": [],
   "source": [
    "n = 200\n",
    "fibonacci = np.zeros((n))\n",
    "fibonacci[0] = 0\n",
    "fibonacci[1] = 1\n",
    "index = 2\n",
    "for index in range(2,n):\n",
    "    fibonacci[index] = fibonacci[index-1] + fibonacci[index-2]"
   ]
  }
 ]
}